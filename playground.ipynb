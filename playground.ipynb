{
 "cells": [
  {
   "attachments": {},
   "cell_type": "markdown",
   "metadata": {},
   "source": [
    "## STRUKTUR PENGULANGAN\n",
    "# For"
   ]
  },
  {
   "attachments": {},
   "cell_type": "markdown",
   "metadata": {},
   "source": [
    "Perintah for dirancang untuk mengambil atau menelusuri elemen yang terdapat pada tipe-tipe koleksi seperti string, list, tuple, dictionary, set, dan objek bertipe range."
   ]
  },
  {
   "attachments": {},
   "cell_type": "markdown",
   "metadata": {},
   "source": [
    "Contoh ini akan menampilkan cara kerja dalam pengulangan for"
   ]
  },
  {
   "cell_type": "code",
   "execution_count": null,
   "metadata": {},
   "outputs": [],
   "source": [
    "angka = [0,1,2,3,4]\n",
    "for i in angka :\n",
    "    print(f\"angka sekarang {i}\")"
   ]
  },
  {
   "attachments": {},
   "cell_type": "markdown",
   "metadata": {},
   "source": [
    "Contoh ini akan menampilkan setiap huruf dalam suatu string"
   ]
  },
  {
   "cell_type": "code",
   "execution_count": 1,
   "metadata": {},
   "outputs": [
    {
     "name": "stdout",
     "output_type": "stream",
     "text": [
      "A\n",
      "k\n",
      "u\n",
      " \n",
      "s\n",
      "u\n",
      "k\n",
      "a\n",
      " \n",
      "p\n",
      "r\n",
      "o\n",
      "g\n",
      "r\n",
      "a\n",
      "m\n",
      "a\n",
      " \n",
      "k\n",
      "o\n",
      "m\n",
      "p\n",
      "u\n",
      "t\n",
      "e\n",
      "r\n"
     ]
    }
   ],
   "source": [
    "kalimat = \"Aku suka programa komputer\"\n",
    "for huruf in kalimat:\n",
    "    print(huruf)"
   ]
  },
  {
   "attachments": {},
   "cell_type": "markdown",
   "metadata": {},
   "source": [
    "Contoh ini menampilkan pengulangan for pada tipe data list"
   ]
  },
  {
   "cell_type": "code",
   "execution_count": 4,
   "metadata": {},
   "outputs": [
    {
     "name": "stdout",
     "output_type": "stream",
     "text": [
      "teknik\n",
      "kedokteran\n",
      "fisip\n",
      "hukum\n",
      "fkip\n"
     ]
    }
   ],
   "source": [
    "for fakultas in [\"teknik\", \"kedokteran\", \"fisip\", \"hukum\", \"fkip\"]:\n",
    "    print(fakultas)"
   ]
  },
  {
   "attachments": {},
   "cell_type": "markdown",
   "metadata": {},
   "source": [
    "Bentuk penyajian lain "
   ]
  },
  {
   "cell_type": "code",
   "execution_count": null,
   "metadata": {},
   "outputs": [],
   "source": [
    "teknik = [\"industri\", \"sipil\", \"mesin\", \"arsitektur\", \"pwk\"]\n",
    "for prodi in teknik:\n",
    "    print(prodi)"
   ]
  },
  {
   "attachments": {},
   "cell_type": "markdown",
   "metadata": {},
   "source": [
    "Contoh ini menampilkan pengulangan for dalam range"
   ]
  },
  {
   "cell_type": "code",
   "execution_count": null,
   "metadata": {},
   "outputs": [],
   "source": [
    "for i in range(10): # akan menampilkan angka index ke-0 hingga index ke-10\n",
    "    print(i)"
   ]
  },
  {
   "cell_type": "code",
   "execution_count": null,
   "metadata": {},
   "outputs": [],
   "source": [
    "for i in range(2,10): # membaca index ke-2 hingga ke-10\n",
    "    i = i+ 1\n",
    "    print(i)"
   ]
  },
  {
   "cell_type": "code",
   "execution_count": null,
   "metadata": {},
   "outputs": [],
   "source": [
    "for i in range(2,15):\n",
    "    print(f\"kuadrat {i} adalah {i**2}\")"
   ]
  },
  {
   "cell_type": "code",
   "execution_count": null,
   "metadata": {},
   "outputs": [],
   "source": [
    "for i in range(2,15,3): # mulai dari 2 hingga kurang dari 15, step increment 3\n",
    "    print(f\"kuadrat {i} adalah {i**2}\")"
   ]
  },
  {
   "attachments": {},
   "cell_type": "markdown",
   "metadata": {},
   "source": [
    "# While"
   ]
  },
  {
   "attachments": {},
   "cell_type": "markdown",
   "metadata": {},
   "source": [
    "While pada bahasa Python digunakan untuk mengeksekusi statement selama kondisi yang diberikan terpenuhi (True). "
   ]
  },
  {
   "cell_type": "code",
   "execution_count": null,
   "metadata": {},
   "outputs": [],
   "source": [
    "# Contoh ini menampilkan pengulangan dengan memanggil i hingga i <= n\n",
    "n = 10\n",
    "i = 0\n",
    "while i <= n:\n",
    "    print(i)\n",
    "    i=i+1"
   ]
  },
  {
   "cell_type": "code",
   "execution_count": null,
   "metadata": {},
   "outputs": [],
   "source": [
    "# Contoh ini akan menampilkan kalimat \"aku hebat lho\" sebanyak 6x\n",
    "angka = 0\n",
    "while angka <= 5:\n",
    "    print(\"aku hebat lho\")\n",
    "\n",
    "print(\"iye cukup tau\")"
   ]
  },
  {
   "cell_type": "code",
   "execution_count": null,
   "metadata": {},
   "outputs": [],
   "source": [
    "angka = 0\n",
    "print(f\"angka sekarang {angka}\")\n",
    "while angka < 5:\n",
    "    angka +=1\n",
    "    print(f\"angka sekarang adalah {angka}\") #menampilkan posisi angka sekarang\n",
    "    print(\"Terima kasih sudah memilih jasa layanan kami\")"
   ]
  },
  {
   "cell_type": "code",
   "execution_count": null,
   "metadata": {},
   "outputs": [],
   "source": [
    "i = 5\n",
    "while i <=10:\n",
    "    print(\"baris ke-%d : Hello World\"%i)\n",
    "    i += 1"
   ]
  },
  {
   "attachments": {},
   "cell_type": "markdown",
   "metadata": {},
   "source": [
    "Berikut merupakan contoh pengulangan menurun (descending)"
   ]
  },
  {
   "cell_type": "code",
   "execution_count": null,
   "metadata": {},
   "outputs": [],
   "source": [
    "# menentukan banyaknya pengulangan\n",
    "n = 4\n",
    "# melakukan pengulangan\n",
    "i = 10\n",
    "\n",
    "while i >= n:\n",
    "    print(i)\n",
    "    i =i-1"
   ]
  },
  {
   "attachments": {},
   "cell_type": "markdown",
   "metadata": {},
   "source": [
    "# Pengulangan Bersarang"
   ]
  },
  {
   "attachments": {},
   "cell_type": "markdown",
   "metadata": {},
   "source": [
    "Pengulangan bersarang merupakan pengulangan di dalam badan pengulangan lain. Dalam proses ini kita dapat menggunakan perintah while, for maupun kombinasi dari keduanya"
   ]
  },
  {
   "cell_type": "code",
   "execution_count": null,
   "metadata": {},
   "outputs": [],
   "source": [
    "# Contoh ini menampilkan pengulangan bersarang menggunakan for\n",
    "data = int(input(\"Masukkan angka disini : \"))\n",
    "\n",
    "for i in range(1, data+1):\n",
    "    for j in range(1,data+1):\n",
    "        print(j, end='')\n",
    "    \n",
    "    print()\n",
    "    data-=1 # descending"
   ]
  },
  {
   "cell_type": "code",
   "execution_count": null,
   "metadata": {},
   "outputs": [],
   "source": [
    "# contoh ini menampilkan pengulangan bersarang menggunakan while\n",
    "\n",
    "i = 1\n",
    "while i <= 10:\n",
    "    j = 1\n",
    "    while j<=i:\n",
    "        print(j, end='')\n",
    "        j += 1\n",
    "    print()\n",
    "    i +=1"
   ]
  },
  {
   "attachments": {},
   "cell_type": "markdown",
   "metadata": {},
   "source": [
    "# Control Flow"
   ]
  },
  {
   "attachments": {},
   "cell_type": "markdown",
   "metadata": {},
   "source": [
    "Pass : sebagai dummy, tidak akan dieksekusi"
   ]
  },
  {
   "cell_type": "code",
   "execution_count": null,
   "metadata": {},
   "outputs": [],
   "source": [
    "angka = 0\n",
    "\n",
    "print(f\"angka sekarang adalah {angka}\")\n",
    "\n",
    "while angka < 7:\n",
    "    angka +=1\n",
    "    print(f\"angka sekarang adalah {angka}\")\n",
    "\n",
    "    if angka ==2:\n",
    "        print(\"istirahat\")\n",
    "\n",
    "print(\"selesai\")"
   ]
  },
  {
   "cell_type": "code",
   "execution_count": null,
   "metadata": {},
   "outputs": [],
   "source": [
    "# implementasi pass\n",
    "angka = 0\n",
    "\n",
    "print(f\"angka sekarang adalah {angka}\")\n",
    "\n",
    "while angka < 7:\n",
    "    angka +=1\n",
    "    print(f\"angka sekarang adalah {angka}\")\n",
    "\n",
    "    if angka ==2:\n",
    "        print(\"istirahat\")\n",
    "        pass\n",
    "\n",
    "print(\"selesai\")"
   ]
  },
  {
   "attachments": {},
   "cell_type": "markdown",
   "metadata": {},
   "source": [
    "Continue : membuat pengulangan meloncat ke step berikutnya"
   ]
  },
  {
   "cell_type": "code",
   "execution_count": null,
   "metadata": {},
   "outputs": [],
   "source": [
    "# implementasi continue\n",
    "angka = 0\n",
    "\n",
    "print(f\"angka sekarang adalah {angka}\")\n",
    "\n",
    "while angka < 7:\n",
    "    angka +=1\n",
    "    print(f\"angka sekarang adalah {angka}\") # aksi 1\n",
    "\n",
    "    if angka ==2:\n",
    "        print(\"istirahat\")\n",
    "        continue # akan membuat loop meloncat ke step selanjutnya\n",
    "    print(\"hold\") # aksi 2\n",
    "\n",
    "print(\"selesai\")"
   ]
  },
  {
   "attachments": {},
   "cell_type": "markdown",
   "metadata": {},
   "source": [
    "Break : menghentikan pengulangan apabila suatu kondisi terpenuhi"
   ]
  },
  {
   "cell_type": "code",
   "execution_count": null,
   "metadata": {},
   "outputs": [],
   "source": [
    "# implementasi break\n",
    "data = int(input(\"masukkan angka disini: \"))\n",
    "angka = 0\n",
    "\n",
    "while True:\n",
    "    angka +=1\n",
    "    print(f\"angka sekarang adalah {angka}\") # aksi 1\n",
    "\n",
    "    if angka == data:\n",
    "        print(\"istirahat\")\n",
    "        break # akan membuat loop berhenti\n",
    "    print(\"hold\") # aksi 2\n",
    "\n",
    "print(\"selesai\")"
   ]
  },
  {
   "attachments": {},
   "cell_type": "markdown",
   "metadata": {},
   "source": [
    "Return/ fungsi pengembalian : Perintah return akan menghentikan proses eksekusi kode di dalam fungsi dan eksekusi akan diarahkan ke baris pemanggil"
   ]
  },
  {
   "cell_type": "code",
   "execution_count": null,
   "metadata": {},
   "outputs": [],
   "source": [
    "def operasi(a,b):\n",
    "    c = a+b\n",
    "    return c\n",
    "\n",
    "x = int(input(\"masukkan angka pertama: \"))\n",
    "y = int(input(\"masukkan angka kedua: \"))\n",
    "\n",
    "result = operasi(x,y)\n",
    "print(f\"{x} + {y} adalah {result}\")"
   ]
  },
  {
   "attachments": {},
   "cell_type": "markdown",
   "metadata": {},
   "source": [
    "# Ayo Latihan\n"
   ]
  },
  {
   "attachments": {},
   "cell_type": "markdown",
   "metadata": {},
   "source": [
    "1. Buatlah sebuah variabel yang berisi tipe data string nama lengkap kalian, kemudian buatlah pengulangan dimana pengulangan tersebut menampilkan tiap-tiap karakter nama kalian!"
   ]
  },
  {
   "cell_type": "code",
   "execution_count": 2,
   "metadata": {},
   "outputs": [
    {
     "name": "stdout",
     "output_type": "stream",
     "text": [
      "S\n",
      "t\n",
      "e\n",
      "v\n",
      "e\n",
      "n\n",
      " \n",
      "A\n",
      "l\n",
      "e\n",
      "x\n",
      "a\n",
      "n\n",
      "d\n",
      "e\n",
      "r\n",
      " \n",
      "H\n",
      "i\n",
      "d\n",
      "a\n",
      "y\n",
      "a\n",
      "t\n"
     ]
    }
   ],
   "source": [
    "# kerjakan latihan 1 di sini!\n",
    "\n",
    "nama = 'Steven Alexander Hidayat'\n",
    "\n",
    "for huruf in nama:\n",
    "    print(huruf)"
   ]
  },
  {
   "attachments": {},
   "cell_type": "markdown",
   "metadata": {},
   "source": [
    "2. Buatlah sebuah list yang berisi mata kuliah yang ada di Teknik Industri (minimal 7), kemudian buat pengulangan yang menampilkan isi-isi dalam list tersebut, asumsikan salah satu mata kuliah tersebut menunjukkan mata kuliah favorit kalian maka tambahkan output \"Aku sangat suka Mata Kuliah X\"  "
   ]
  },
  {
   "cell_type": "code",
   "execution_count": 9,
   "metadata": {},
   "outputs": [
    {
     "name": "stdout",
     "output_type": "stream",
     "text": [
      "Mata Kuliah di Teknik Industri ada prokom\n",
      "Mata Kuliah di Teknik Industri ada fisdas\n",
      "Mata Kuliah di Teknik Industri ada material\n",
      "Mata Kuliah di Teknik Industri ada praktikumprokom\n",
      "Mata Kuliah di Teknik Industri ada praktikumfisdas\n",
      "Mata Kuliah di Teknik Industri ada kalkulus\n",
      "Mata Kuliah di Teknik Industri ada psikologi industri\n",
      "Mata Kuliah di Teknik Industri ada aeb\n",
      "Dan mata kuliah favoritku ya jelas praktikumprokom\n"
     ]
    }
   ],
   "source": [
    "# kerjakan latihan 2 di sini!\n",
    "\n",
    "matkul = ['prokom', 'fisdas', 'material', 'praktikumprokom', 'praktikumfisdas', 'kalkulus', 'psikologi industri', 'aeb']\n",
    "for listmatkul in matkul:\n",
    "    print('Mata Kuliah di Teknik Industri ada', listmatkul)\n",
    "    \n",
    "fav = matkul[3]\n",
    "print(f'Dan mata kuliah favoritku ya jelas', fav)"
   ]
  }
 ],
 "metadata": {
  "kernelspec": {
   "display_name": "Python 3",
   "language": "python",
   "name": "python3"
  },
  "language_info": {
   "codemirror_mode": {
    "name": "ipython",
    "version": 3
   },
   "file_extension": ".py",
   "mimetype": "text/x-python",
   "name": "python",
   "nbconvert_exporter": "python",
   "pygments_lexer": "ipython3",
   "version": "3.10.7"
  },
  "orig_nbformat": 4,
  "vscode": {
   "interpreter": {
    "hash": "bfc64d02efe54d42e34b263bef22f30589257b89fcb64b24b7eac44b53028422"
   }
  }
 },
 "nbformat": 4,
 "nbformat_minor": 2
}
